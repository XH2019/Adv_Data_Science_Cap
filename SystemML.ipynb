{
    "nbformat_minor": 1, 
    "cells": [
        {
            "source": "# Linear Regression with SystemML and Apache Spark\n\nUninstall all libraries that need updating.", 
            "cell_type": "markdown", 
            "metadata": {
                "collapsed": true
            }
        }, 
        {
            "execution_count": 1, 
            "cell_type": "code", 
            "metadata": {}, 
            "outputs": [
                {
                    "output_type": "stream", 
                    "name": "stdout", 
                    "text": "Waiting for a Spark session to start...\nSpark Initialization Done! ApplicationId = app-20190902041245-0012\nKERNEL_ID = 2423c1f7-9e4d-4fdd-998e-35ab200cc5ba\n"
                }
            ], 
            "source": "#!pip uninstall systemml -y\n#!pip uninstall numpy -y"
        }, 
        {
            "source": "The latest SystemML available in mid 2019 is the 1.3.0 snapshot that also works with Python 3.6 etc.", 
            "cell_type": "markdown", 
            "metadata": {}
        }, 
        {
            "execution_count": 2, 
            "cell_type": "code", 
            "metadata": {}, 
            "outputs": [
                {
                    "output_type": "stream", 
                    "name": "stdout", 
                    "text": "Collecting numpy==1.17.1\n  Using cached https://files.pythonhosted.org/packages/75/92/57179ed45307ec6179e344231c47da7f3f3da9e2eee5c8ab506bd279ce4e/numpy-1.17.1-cp36-cp36m-manylinux1_x86_64.whl\n\u001b[31mError checking for conflicts.\nTraceback (most recent call last):\n  File \"/opt/ibm/conda/miniconda36/lib/python3.6/site-packages/pip/_vendor/pkg_resources/__init__.py\", line 2584, in version\n    return self._version\n  File \"/opt/ibm/conda/miniconda36/lib/python3.6/site-packages/pip/_vendor/pkg_resources/__init__.py\", line 2691, in __getattr__\n    raise AttributeError(attr)\nAttributeError: _version\n\nDuring handling of the above exception, another exception occurred:\n\nTraceback (most recent call last):\n  File \"/opt/ibm/conda/miniconda36/lib/python3.6/site-packages/pip/_internal/commands/install.py\", line 503, in _warn_about_conflicts\n    package_set, _dep_info = check_install_conflicts(to_install)\n  File \"/opt/ibm/conda/miniconda36/lib/python3.6/site-packages/pip/_internal/operations/check.py\", line 108, in check_install_conflicts\n    package_set, _ = create_package_set_from_installed()\n  File \"/opt/ibm/conda/miniconda36/lib/python3.6/site-packages/pip/_internal/operations/check.py\", line 47, in create_package_set_from_installed\n    package_set[name] = PackageDetails(dist.version, dist.requires())\n  File \"/opt/ibm/conda/miniconda36/lib/python3.6/site-packages/pip/_vendor/pkg_resources/__init__.py\", line 2589, in version\n    raise ValueError(tmpl % self.PKG_INFO, self)\nValueError: (\"Missing 'Version:' header and/or METADATA file\", Unknown [unknown version] (/home/spark/shared/user-libs/python3))\u001b[0m\nInstalling collected packages: numpy\nSuccessfully installed numpy-1.17.1\n\u001b[33mTarget directory /home/spark/shared/user-libs/python3/numpy-1.17.1.dist-info already exists. Specify --upgrade to force replacement.\u001b[0m\n\u001b[33mTarget directory /home/spark/shared/user-libs/python3/numpy already exists. Specify --upgrade to force replacement.\u001b[0m\n\u001b[33mTarget directory /home/spark/shared/user-libs/python3/bin already exists. Specify --upgrade to force replacement.\u001b[0m\n"
                }
            ], 
            "source": "#!pip install --upgrade https://github.com/niketanpansare/future_of_data/raw/master/systemml-1.3.0-SNAPSHOT-python.tar.gz\n!pip install numpy==1.17.1 "
        }, 
        {
            "execution_count": 3, 
            "cell_type": "code", 
            "metadata": {}, 
            "outputs": [], 
            "source": "!ln -s -f /home/spark/shared/user-libs/python3/systemml/systemml-java/systemml-1.3.0-SNAPSHOT-extra.jar ~/user-libs/spark2/systemml-1.3.0-SNAPSHOT-extra.jar\n!ln -s -f /home/spark/shared/user-libs/python3/systemml/systemml-java/systemml-1.3.0-SNAPSHOT.jar ~/user-libs/spark2/systemml-1.3.0-SNAPSHOT.jar"
        }, 
        {
            "execution_count": 4, 
            "cell_type": "code", 
            "metadata": {}, 
            "outputs": [
                {
                    "execution_count": 4, 
                    "metadata": {}, 
                    "data": {
                        "text/plain": "'1.3.0-SNAPSHOT'"
                    }, 
                    "output_type": "execute_result"
                }
            ], 
            "source": "from systemml import MLContext\n\nml = MLContext(spark)\nml.version()"
        }, 
        {
            "execution_count": 5, 
            "cell_type": "code", 
            "metadata": {}, 
            "outputs": [
                {
                    "output_type": "stream", 
                    "name": "stdout", 
                    "text": "Archiver-Version: Plexus Archiver\nArtifact-Id: systemml\nBuild-Jdk: 1.8.0_181\nBuild-Time: 2019-03-19 23:17:12 UTC\nBuilt-By: npansar\nCreated-By: Apache Maven 3.5.4\nGroup-Id: org.apache.systemml\nMain-Class: org.apache.sysml.api.DMLScript\nManifest-Version: 1.0\nMinimum-Recommended-Spark-Version: 2.3.0\nVersion: 1.3.0-SNAPSHOT\n\n"
                }
            ], 
            "source": "# And print the information of SystemML version\nprint(ml.info())"
        }, 
        {
            "execution_count": 6, 
            "cell_type": "code", 
            "metadata": {}, 
            "outputs": [], 
            "source": "# The code was removed by Watson Studio for sharing."
        }, 
        {
            "execution_count": 7, 
            "cell_type": "code", 
            "metadata": {}, 
            "outputs": [
                {
                    "execution_count": 7, 
                    "metadata": {}, 
                    "data": {
                        "text/html": "<div>\n<style scoped>\n    .dataframe tbody tr th:only-of-type {\n        vertical-align: middle;\n    }\n\n    .dataframe tbody tr th {\n        vertical-align: top;\n    }\n\n    .dataframe thead th {\n        text-align: right;\n    }\n</style>\n<table border=\"1\" class=\"dataframe\">\n  <thead>\n    <tr style=\"text-align: right;\">\n      <th></th>\n      <th>Unnamed: 0</th>\n      <th>area</th>\n      <th>peri</th>\n      <th>shape</th>\n      <th>perm</th>\n    </tr>\n  </thead>\n  <tbody>\n    <tr>\n      <td>0</td>\n      <td>1</td>\n      <td>4990</td>\n      <td>2791.90</td>\n      <td>0.090330</td>\n      <td>6.3</td>\n    </tr>\n    <tr>\n      <td>1</td>\n      <td>2</td>\n      <td>7002</td>\n      <td>3892.60</td>\n      <td>0.148622</td>\n      <td>6.3</td>\n    </tr>\n    <tr>\n      <td>2</td>\n      <td>3</td>\n      <td>7558</td>\n      <td>3930.66</td>\n      <td>0.183312</td>\n      <td>6.3</td>\n    </tr>\n    <tr>\n      <td>3</td>\n      <td>4</td>\n      <td>7352</td>\n      <td>3869.32</td>\n      <td>0.117063</td>\n      <td>6.3</td>\n    </tr>\n    <tr>\n      <td>4</td>\n      <td>5</td>\n      <td>7943</td>\n      <td>3948.54</td>\n      <td>0.122417</td>\n      <td>17.1</td>\n    </tr>\n  </tbody>\n</table>\n</div>", 
                        "text/plain": "   Unnamed: 0  area     peri     shape  perm\n0           1  4990  2791.90  0.090330   6.3\n1           2  7002  3892.60  0.148622   6.3\n2           3  7558  3930.66  0.183312   6.3\n3           4  7352  3869.32  0.117063   6.3\n4           5  7943  3948.54  0.122417  17.1"
                    }, 
                    "output_type": "execute_result"
                }
            ], 
            "source": "df = pd.read_csv(streaming_body_1)\ndf.head()"
        }, 
        {
            "execution_count": 8, 
            "cell_type": "code", 
            "metadata": {}, 
            "outputs": [
                {
                    "execution_count": 8, 
                    "metadata": {}, 
                    "data": {
                        "text/html": "<div>\n<style scoped>\n    .dataframe tbody tr th:only-of-type {\n        vertical-align: middle;\n    }\n\n    .dataframe tbody tr th {\n        vertical-align: top;\n    }\n\n    .dataframe thead th {\n        text-align: right;\n    }\n</style>\n<table border=\"1\" class=\"dataframe\">\n  <thead>\n    <tr style=\"text-align: right;\">\n      <th></th>\n      <th>area</th>\n      <th>peri</th>\n      <th>shape</th>\n      <th>perm</th>\n    </tr>\n  </thead>\n  <tbody>\n    <tr>\n      <td>0</td>\n      <td>4990</td>\n      <td>2791.90</td>\n      <td>0.090330</td>\n      <td>6.3</td>\n    </tr>\n    <tr>\n      <td>1</td>\n      <td>7002</td>\n      <td>3892.60</td>\n      <td>0.148622</td>\n      <td>6.3</td>\n    </tr>\n    <tr>\n      <td>2</td>\n      <td>7558</td>\n      <td>3930.66</td>\n      <td>0.183312</td>\n      <td>6.3</td>\n    </tr>\n    <tr>\n      <td>3</td>\n      <td>7352</td>\n      <td>3869.32</td>\n      <td>0.117063</td>\n      <td>6.3</td>\n    </tr>\n    <tr>\n      <td>4</td>\n      <td>7943</td>\n      <td>3948.54</td>\n      <td>0.122417</td>\n      <td>17.1</td>\n    </tr>\n  </tbody>\n</table>\n</div>", 
                        "text/plain": "   area     peri     shape  perm\n0  4990  2791.90  0.090330   6.3\n1  7002  3892.60  0.148622   6.3\n2  7558  3930.66  0.183312   6.3\n3  7352  3869.32  0.117063   6.3\n4  7943  3948.54  0.122417  17.1"
                    }, 
                    "output_type": "execute_result"
                }
            ], 
            "source": "df = pd.DataFrame(df, columns=['area','peri','shape','perm'])\ndf.head()"
        }, 
        {
            "execution_count": 9, 
            "cell_type": "code", 
            "metadata": {}, 
            "outputs": [
                {
                    "execution_count": 9, 
                    "metadata": {}, 
                    "data": {
                        "text/html": "<div>\n<style scoped>\n    .dataframe tbody tr th:only-of-type {\n        vertical-align: middle;\n    }\n\n    .dataframe tbody tr th {\n        vertical-align: top;\n    }\n\n    .dataframe thead th {\n        text-align: right;\n    }\n</style>\n<table border=\"1\" class=\"dataframe\">\n  <thead>\n    <tr style=\"text-align: right;\">\n      <th></th>\n      <th>perm</th>\n    </tr>\n  </thead>\n  <tbody>\n    <tr>\n      <td>0</td>\n      <td>6.3</td>\n    </tr>\n    <tr>\n      <td>1</td>\n      <td>6.3</td>\n    </tr>\n    <tr>\n      <td>2</td>\n      <td>6.3</td>\n    </tr>\n    <tr>\n      <td>3</td>\n      <td>6.3</td>\n    </tr>\n    <tr>\n      <td>4</td>\n      <td>17.1</td>\n    </tr>\n  </tbody>\n</table>\n</div>", 
                        "text/plain": "   perm\n0   6.3\n1   6.3\n2   6.3\n3   6.3\n4  17.1"
                    }, 
                    "output_type": "execute_result"
                }
            ], 
            "source": "df_y = df.drop(['area','peri','shape'], axis=1)\ndf_y.head()"
        }, 
        {
            "execution_count": 10, 
            "cell_type": "code", 
            "metadata": {}, 
            "outputs": [
                {
                    "execution_count": 10, 
                    "metadata": {}, 
                    "data": {
                        "text/plain": "array([[ 6.3],\n       [ 6.3],\n       [ 6.3],\n       [ 6.3],\n       [17.1]])"
                    }, 
                    "output_type": "execute_result"
                }
            ], 
            "source": "import numpy as np\n\ny = np.array(df_y)\ny[0:5]"
        }, 
        {
            "execution_count": 11, 
            "cell_type": "code", 
            "metadata": {}, 
            "outputs": [
                {
                    "execution_count": 11, 
                    "metadata": {}, 
                    "data": {
                        "text/html": "<div>\n<style scoped>\n    .dataframe tbody tr th:only-of-type {\n        vertical-align: middle;\n    }\n\n    .dataframe tbody tr th {\n        vertical-align: top;\n    }\n\n    .dataframe thead th {\n        text-align: right;\n    }\n</style>\n<table border=\"1\" class=\"dataframe\">\n  <thead>\n    <tr style=\"text-align: right;\">\n      <th></th>\n      <th>area</th>\n      <th>peri</th>\n      <th>shape</th>\n    </tr>\n  </thead>\n  <tbody>\n    <tr>\n      <td>0</td>\n      <td>4990</td>\n      <td>2791.90</td>\n      <td>0.090330</td>\n    </tr>\n    <tr>\n      <td>1</td>\n      <td>7002</td>\n      <td>3892.60</td>\n      <td>0.148622</td>\n    </tr>\n    <tr>\n      <td>2</td>\n      <td>7558</td>\n      <td>3930.66</td>\n      <td>0.183312</td>\n    </tr>\n    <tr>\n      <td>3</td>\n      <td>7352</td>\n      <td>3869.32</td>\n      <td>0.117063</td>\n    </tr>\n    <tr>\n      <td>4</td>\n      <td>7943</td>\n      <td>3948.54</td>\n      <td>0.122417</td>\n    </tr>\n  </tbody>\n</table>\n</div>", 
                        "text/plain": "   area     peri     shape\n0  4990  2791.90  0.090330\n1  7002  3892.60  0.148622\n2  7558  3930.66  0.183312\n3  7352  3869.32  0.117063\n4  7943  3948.54  0.122417"
                    }, 
                    "output_type": "execute_result"
                }
            ], 
            "source": "df_X = df.drop(['perm'], axis=1)\ndf_X.head()"
        }, 
        {
            "execution_count": 12, 
            "cell_type": "code", 
            "metadata": {}, 
            "outputs": [
                {
                    "execution_count": 12, 
                    "metadata": {}, 
                    "data": {
                        "text/plain": "array([[4.99000e+03, 2.79190e+03, 9.03296e-02],\n       [7.00200e+03, 3.89260e+03, 1.48622e-01],\n       [7.55800e+03, 3.93066e+03, 1.83312e-01],\n       [7.35200e+03, 3.86932e+03, 1.17063e-01],\n       [7.94300e+03, 3.94854e+03, 1.22417e-01]])"
                    }, 
                    "output_type": "execute_result"
                }
            ], 
            "source": "X = np.array(df_X)\nX[0:5]"
        }, 
        {
            "source": "SystemML should accept data as numpy array and also as pandas dataframe. I will feed it as array!", 
            "cell_type": "markdown", 
            "metadata": {}
        }, 
        {
            "execution_count": 13, 
            "cell_type": "code", 
            "metadata": {}, 
            "outputs": [
                {
                    "output_type": "stream", 
                    "name": "stdout", 
                    "text": "[[4.89500e+03 1.23966e+03 3.41273e-01]\n [7.94300e+03 3.94854e+03 1.22417e-01]\n [7.41600e+03 1.91624e+03 1.91802e-01]\n [6.77500e+03 1.72814e+03 3.11646e-01]\n [5.98000e+03 1.42676e+03 1.97653e-01]]\n[[890. ]\n [ 17.1]\n [740. ]\n [890. ]\n [950. ]]\n"
                }
            ], 
            "source": "from sklearn.utils import shuffle\n\nseed = 0\nnp.random.seed(seed)\n\nX = shuffle(X, random_state=seed)\ny = shuffle(y, random_state=seed)\nprint(X[0:5])\nprint(y[0:5])"
        }, 
        {
            "source": "At this point you would split the model into train and test set with sklearn. But the data set is too small for this.", 
            "cell_type": "markdown", 
            "metadata": {}
        }, 
        {
            "execution_count": 14, 
            "cell_type": "code", 
            "metadata": {}, 
            "outputs": [], 
            "source": "#from systemml.mllearn import LogisticRegression\nfrom systemml.mllearn import LinearRegression\nfrom pyspark.sql import SparkSession\n\nsparkSession = SparkSession.builder.getOrCreate()\nlogistic = LinearRegression(sparkSession)"
        }, 
        {
            "execution_count": 15, 
            "cell_type": "code", 
            "metadata": {}, 
            "outputs": [
                {
                    "output_type": "stream", 
                    "name": "stdout", 
                    "text": "BEGIN LINEAR REGRESSION SCRIPT\nReading X and Y...\nRunning the CG algorithm...\n||r|| initial value = 1.2550571663279374E8,  target value = 125.50571663279375\nIteration 1:  ||r|| / ||r init|| = 0.11135166118709607\nIteration 2:  ||r|| / ||r init|| = 3.200522777969612E-5\nIteration 3:  ||r|| / ||r init|| = 1.8851794008794281E-6\nIteration 4:  ||r|| / ||r init|| = 1.7816699070061662E-6\nIteration 5:  ||r|| / ||r init|| = 0.007085696187536821\nIteration 6:  ||r|| / ||r init|| = 8.747532691590887E-11\nThe CG algorithm is done.\nComputing the statistics...\nAVG_TOT_Y,415.45\nSTDEV_TOT_Y,437.8182261497757\nAVG_RES_Y,-2.6060448613899705E-8\nSTDEV_RES_Y,246.01471748689235\nDISPERSION,60523.241220155454\nR2,0.7044102825997469\nADJUSTED_R2,0.6842564382315479\nR2_NOBIAS,0.7044102825997469\nADJUSTED_R2_NOBIAS,0.6842564382315479\nWriting the output matrix...\nEND LINEAR REGRESSION SCRIPT\nSystemML Statistics:\nTotal execution time:\t\t0.061 sec.\nNumber of executed Spark inst:\t2.\n\n\n"
                }
            ], 
            "source": "model = logistic.fit(X, y)"
        }, 
        {
            "execution_count": 16, 
            "cell_type": "code", 
            "metadata": {}, 
            "outputs": [
                {
                    "output_type": "stream", 
                    "name": "stdout", 
                    "text": "SystemML Statistics:\nTotal execution time:\t\t0.003 sec.\nNumber of executed Spark inst:\t1.\n\n\nLogisticRegression score: 0.7044102825997469\n"
                }
            ], 
            "source": "print('LogisticRegression score: {}'.format(model.score(X, y)))"
        }, 
        {
            "execution_count": 17, 
            "cell_type": "code", 
            "metadata": {}, 
            "outputs": [
                {
                    "output_type": "stream", 
                    "name": "stdout", 
                    "text": "SystemML Statistics:\nTotal execution time:\t\t0.002 sec.\nNumber of executed Spark inst:\t1.\n\n\n"
                }
            ], 
            "source": "y_hat = model.predict(X)"
        }, 
        {
            "execution_count": 18, 
            "cell_type": "code", 
            "metadata": {}, 
            "outputs": [
                {
                    "output_type": "stream", 
                    "name": "stdout", 
                    "text": "[[ 890.          813.0513966 ]\n [  17.1         -37.25128228]\n [ 740.          676.15893185]\n [ 890.          790.07305719]\n [ 950.          718.65722751]\n [ 100.          850.26196315]\n [ 950.          834.69195848]\n [1300.          918.22800598]\n [  17.1        -111.76230345]\n [ 119.          -64.67073582]]\n"
                }
            ], 
            "source": "predictions = np.column_stack((y, y_hat));\nprint(predictions[:10])"
        }, 
        {
            "execution_count": null, 
            "cell_type": "code", 
            "metadata": {}, 
            "outputs": [], 
            "source": ""
        }
    ], 
    "metadata": {
        "kernelspec": {
            "display_name": "Python 3.6 with Spark", 
            "name": "python36", 
            "language": "python3"
        }, 
        "language_info": {
            "mimetype": "text/x-python", 
            "nbconvert_exporter": "python", 
            "version": "3.6.8", 
            "name": "python", 
            "file_extension": ".py", 
            "pygments_lexer": "ipython3", 
            "codemirror_mode": {
                "version": 3, 
                "name": "ipython"
            }
        }
    }, 
    "nbformat": 4
}